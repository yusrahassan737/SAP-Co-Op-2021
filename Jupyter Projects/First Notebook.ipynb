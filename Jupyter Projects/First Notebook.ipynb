{
 "cells": [
  {
   "cell_type": "code",
   "execution_count": null,
   "id": "2b61cad6",
   "metadata": {
    "scrolled": true
   },
   "outputs": [],
   "source": [
    "myName = \"Yusra\""
   ]
  },
  {
   "cell_type": "code",
   "execution_count": null,
   "id": "df05a823",
   "metadata": {},
   "outputs": [],
   "source": [
    "import pandas as pd\n",
    "\n",
    "cars = {\n",
    "  \"COLOUR\" : [\"Black\", \"Red\", \"Blue\"],\n",
    "  \"CONDITION\" : [\"New\", \"Used\", \"Refurbished\"],\n",
    "  \"MAKE\" : [\"Ford\", \"Toyota\", \"Honda\"],\n",
    "  \"PRICE\" : [15000, 14000, 16000]\n",
    "}\n",
    "\n",
    "carsTable = pd.DataFrame(cars[\"MAKE\"], cars[\"PRICE\"])\n",
    "print(carsTable)"
   ]
  },
  {
   "cell_type": "code",
   "execution_count": null,
   "id": "92242c0f",
   "metadata": {},
   "outputs": [],
   "source": [
    "import matplotlib.pyplot as plt\n",
    "import sys\n",
    "plt.plot([1, 20, 13], cars[\"PRICE\"], '*y', ms = 15)\n",
    "plt.show()"
   ]
  },
  {
   "cell_type": "markdown",
   "id": "d7fc5b33",
   "metadata": {},
   "source": [
    "Helloooo\n",
    "what does this do?\n",
    "## Does this make things bigger?\n",
    "# I think it does\n",
    "#### Cool"
   ]
  },
  {
   "cell_type": "code",
   "execution_count": 3,
   "id": "95f4c154",
   "metadata": {},
   "outputs": [],
   "source": []
  },
  {
   "cell_type": "code",
   "execution_count": 1,
   "id": "09318bb6",
   "metadata": {},
   "outputs": [
    {
     "ename": "NameError",
     "evalue": "name 'myNum' is not defined",
     "output_type": "error",
     "traceback": [
      "\u001b[1;31m---------------------------------------------------------------------------\u001b[0m",
      "\u001b[1;31mNameError\u001b[0m                                 Traceback (most recent call last)",
      "\u001b[1;32m<ipython-input-1-cb3c8ecda737>\u001b[0m in \u001b[0;36m<module>\u001b[1;34m\u001b[0m\n\u001b[1;32m----> 1\u001b[1;33m \u001b[0mprint\u001b[0m\u001b[1;33m(\u001b[0m\u001b[0mmyNum\u001b[0m\u001b[1;33m)\u001b[0m\u001b[1;33m\u001b[0m\u001b[1;33m\u001b[0m\u001b[0m\n\u001b[0m",
      "\u001b[1;31mNameError\u001b[0m: name 'myNum' is not defined"
     ]
    }
   ],
   "source": []
  },
  {
   "cell_type": "code",
   "execution_count": null,
   "id": "dc400669",
   "metadata": {},
   "outputs": [],
   "source": []
  }
 ],
 "metadata": {
  "kernelspec": {
   "display_name": "Python 3",
   "language": "python",
   "name": "python3"
  },
  "language_info": {
   "codemirror_mode": {
    "name": "ipython",
    "version": 3
   },
   "file_extension": ".py",
   "mimetype": "text/x-python",
   "name": "python",
   "nbconvert_exporter": "python",
   "pygments_lexer": "ipython3",
   "version": "3.8.8"
  }
 },
 "nbformat": 4,
 "nbformat_minor": 5
}
